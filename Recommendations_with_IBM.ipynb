{
 "cells": [
  {
   "cell_type": "markdown",
   "metadata": {},
   "source": [
    "# Recommendations with IBM\n",
    "\n",
    "In this notebook, you will be putting your recommendation skills to use on real data from the IBM Watson Studio platform. \n",
    "\n",
    "\n",
    "You may either submit your notebook through the workspace here, or you may work from your local machine and submit through the next page.  Either way assure that your code passes the project [RUBRIC](https://review.udacity.com/#!/rubrics/2322/view).  **Please save regularly.**\n",
    "\n",
    "By following the table of contents, you will build out a number of different methods for making recommendations that can be used for different situations. \n",
    "\n",
    "\n",
    "## Table of Contents\n",
    "\n",
    "I. [Exploratory Data Analysis](#Exploratory-Data-Analysis)<br>\n",
    "II. [Rank Based Recommendations](#Rank)<br>\n",
    "III. [User-User Based Collaborative Filtering](#User-User)<br>\n",
    "IV. [Content Based Recommendations (EXTRA - NOT REQUIRED)](#Content-Recs)<br>\n",
    "V. [Matrix Factorization](#Matrix-Fact)<br>\n",
    "VI. [Extras & Concluding](#conclusions)\n",
    "\n",
    "At the end of the notebook, you will find directions for how to submit your work.  Let's get started by importing the necessary libraries and reading in the data."
   ]
  },
  {
   "cell_type": "code",
   "execution_count": 79,
   "metadata": {},
   "outputs": [
    {
     "name": "stdout",
     "output_type": "stream",
     "text": [
      "   article_id                                              title  \\\n",
      "0      1430.0  using pixiedust for fast, flexible, and easier...   \n",
      "1      1314.0       healthcare python streaming application demo   \n",
      "2      1429.0         use deep learning for image classification   \n",
      "3      1338.0          ml optimization using cognitive assistant   \n",
      "4      1276.0          deploy your python model as a restful api   \n",
      "\n",
      "                                      email  \n",
      "0  ef5f11f77ba020cd36e1105a00ab868bbdbf7fe7  \n",
      "1  083cbdfa93c8444beaa4c5f5e0f5f9198e4f9e0b  \n",
      "2  b96a4f2e92d8572034b1e9b28f9ac673765cd074  \n",
      "3  06485706b34a5c9bf2a0ecdac41daf7e7654ceb7  \n",
      "4  f01220c46fc92c6e6b161b1849de11faacd7ccb2  \n",
      "----unique data---\n",
      "article_id     714\n",
      "title          714\n",
      "email         5148\n",
      "dtype: int64\n",
      "----Total data---\n",
      "article_id    45993\n",
      "title         45993\n",
      "email         45976\n",
      "dtype: int64\n",
      "----df head---\n",
      "   article_id                                              title  \\\n",
      "0      1430.0  using pixiedust for fast, flexible, and easier...   \n",
      "1      1314.0       healthcare python streaming application demo   \n",
      "2      1429.0         use deep learning for image classification   \n",
      "3      1338.0          ml optimization using cognitive assistant   \n",
      "4      1276.0          deploy your python model as a restful api   \n",
      "\n",
      "                                      email  \n",
      "0  ef5f11f77ba020cd36e1105a00ab868bbdbf7fe7  \n",
      "1  083cbdfa93c8444beaa4c5f5e0f5f9198e4f9e0b  \n",
      "2  b96a4f2e92d8572034b1e9b28f9ac673765cd074  \n",
      "3  06485706b34a5c9bf2a0ecdac41daf7e7654ceb7  \n",
      "4  f01220c46fc92c6e6b161b1849de11faacd7ccb2  \n",
      "----df content head---\n",
      "                                            doc_body  \\\n",
      "0  Skip navigation Sign in SearchLoading...\\r\\n\\r...   \n",
      "1  No Free Hunch Navigation * kaggle.com\\r\\n\\r\\n ...   \n",
      "2  ☰ * Login\\r\\n * Sign Up\\r\\n\\r\\n * Learning Pat...   \n",
      "3  DATALAYER: HIGH THROUGHPUT, LOW LATENCY AT SCA...   \n",
      "4  Skip navigation Sign in SearchLoading...\\r\\n\\r...   \n",
      "\n",
      "                                     doc_description  \\\n",
      "0  Detect bad readings in real time using Python ...   \n",
      "1  See the forest, see the trees. Here lies the c...   \n",
      "2  Here’s this week’s news in Data Science and Bi...   \n",
      "3  Learn how distributed DBs solve the problem of...   \n",
      "4  This video demonstrates the power of IBM DataS...   \n",
      "\n",
      "                                       doc_full_name doc_status  article_id  \n",
      "0  Detect Malfunctioning IoT Sensors with Streami...       Live           0  \n",
      "1  Communicating data science: A guide to present...       Live           1  \n",
      "2         This Week in Data Science (April 18, 2017)       Live           2  \n",
      "3  DataLayer Conference: Boost the performance of...       Live           3  \n",
      "4      Analyze NY Restaurant data using Spark in DSX       Live           4  \n"
     ]
    }
   ],
   "source": [
    "import pandas as pd\n",
    "import numpy as np\n",
    "import matplotlib.pyplot as plt\n",
    "import project_tests as t\n",
    "import pickle\n",
    "import imp  \n",
    "imp.reload(t)\n",
    "\n",
    "df = pd.read_csv('data/user-item-interactions.csv')\n",
    "df_content = pd.read_csv('data/articles_community.csv')\n",
    "del df['Unnamed: 0']\n",
    "del df_content['Unnamed: 0']\n",
    "# Make a copy of df \n",
    "df1=df\n",
    "# Show df to get an idea of the data\n",
    "print(df.head())\n",
    "print (\"----unique data---\")\n",
    "print (df.nunique())\n",
    "print (\"----Total data---\")\n",
    "print (df.count())\n",
    "print (\"----df head---\")\n",
    "print (df.head())\n",
    "print (\"----df content head---\")\n",
    "print(df_content.head())\n"
   ]
  },
  {
   "cell_type": "markdown",
   "metadata": {},
   "source": [
    "### <a class=\"anchor\" id=\"Exploratory-Data-Analysis\">Part I : Exploratory Data Analysis</a>\n",
    "\n",
    "Use the dictionary and cells below to provide some insight into the descriptive statistics of the data.\n",
    "\n",
    "`1.` What is the distribution of how many articles a user interacts with in the dataset?  Provide a visual and descriptive statistics to assist with giving a look at the number of times each user interacts with an article.  "
   ]
  },
  {
   "cell_type": "code",
   "execution_count": 80,
   "metadata": {},
   "outputs": [],
   "source": [
    "def article_users_summary(df=df, email='email'):\n",
    "    # Distribution of articles by Total Views and unique users view\n",
    "    article_dist=df.groupby(['article_id','title']).agg(\n",
    "        {\n",
    "\n",
    "            email: ['count','nunique'],\n",
    "\n",
    "        }\n",
    "    ) \n",
    "    article_dist.columns=['Total Views','Unique Users Views']\n",
    "    article_dist.sort_values(by=['Total Views'],ascending=False, inplace=True)\n",
    "    # Distribution of users by Total Views and unique articles view\n",
    "    user_dist=df.groupby([email]).agg(\n",
    "        {\n",
    "\n",
    "            'article_id': ['count','nunique'],\n",
    "\n",
    "        }\n",
    "    ) \n",
    "    user_dist.columns=['Total Views','Unique Article Views']\n",
    "    user_dist.sort_values(by=['Unique Article Views'],ascending=False, inplace=True)\n",
    "    # Distribution of users by Total Views and unique articles view\n",
    "    user_article_dist=df.groupby([email,'article_id','title']).agg(\n",
    "        {\n",
    "\n",
    "            'article_id': ['count','nunique'],\n",
    "\n",
    "        }\n",
    "    ) \n",
    "    user_article_dist.columns=['Total Views','Unique Article Views']\n",
    "    user_article_dist.sort_values(by=['Total Views'],ascending=False, inplace=True)\n",
    "    \n",
    "    return article_dist, user_dist, user_article_dist\n",
    "    "
   ]
  },
  {
   "cell_type": "code",
   "execution_count": 81,
   "metadata": {},
   "outputs": [],
   "source": [
    "article_dist, user_dist, user_article_dist = article_users_summary(df=df1)"
   ]
  },
  {
   "cell_type": "code",
   "execution_count": 82,
   "metadata": {},
   "outputs": [
    {
     "data": {
      "image/png": "[encoded data removed]",
      "text/plain": [
       "<matplotlib.figure.Figure at 0x7f4848729358>"
      ]
     },
     "metadata": {
      "needs_background": "light"
     },
     "output_type": "display_data"
    },
    {
     "data": {
      "image/png": "[encoded data removed]",
      "text/plain": [
       "<matplotlib.figure.Figure at 0x7f4870095240>"
      ]
     },
     "metadata": {
      "needs_background": "light"
     },
     "output_type": "display_data"
    }
   ],
   "source": [
    "import pandas as pd\n",
    "import matplotlib.pyplot as plt\n",
    "from scipy.stats import scoreatpercentile\n",
    "import matplotlib.pyplot as plt\n",
    "\n",
    "# Creating commulative percentile of each article for the number of views\n",
    "a=list(range(1,101))\n",
    "b = [scoreatpercentile(article_dist[\"Unique Users Views\"],i) for i in a]\n",
    "c = [scoreatpercentile(article_dist[\"Total Views\"]       ,i) for i in a]\n",
    "df2 = pd.DataFrame({'percentile': a, 'Unique Users Views': b,'Total Views': c}, columns=['percentile', 'Unique Users Views','Total Views' ])\n",
    "\n",
    "def percntChart(col, data1):\n",
    "    fig = plt.figure()\n",
    "    fig.suptitle('Article views percentile distribution', fontsize=20)\n",
    "    plt.xlabel('Percentile', fontsize=18)\n",
    "    plt.ylabel('Views', fontsize=16)\n",
    "    plt.plot( 'percentile', col ,  data=data1, marker='', color='olive', linewidth=4)\n",
    "    plt.legend()\n",
    "\n",
    "percntChart('Unique Users Views', df2)\n",
    "percntChart('Total Views', df2)\n",
    "\n"
   ]
  },
  {
   "cell_type": "code",
   "execution_count": 83,
   "metadata": {},
   "outputs": [
    {
     "name": "stdout",
     "output_type": "stream",
     "text": [
      "--Article Distribution Statistics---\n",
      "       Total Views  Unique Users Views\n",
      "count   714.000000          714.000000\n",
      "mean     64.392157           47.155462\n",
      "std     109.161462           65.455913\n",
      "min       1.000000            1.000000\n",
      "25%       8.000000            7.000000\n",
      "50%      25.000000           21.500000\n",
      "75%      69.000000           59.000000\n",
      "max     937.000000          467.000000\n",
      "--Users Distribution Statistics---\n",
      "       Total Views  Unique Article Views\n",
      "count  5148.000000           5148.000000\n",
      "mean      8.930847              6.540210\n",
      "std      16.802267              9.990676\n",
      "min       1.000000              1.000000\n",
      "25%       1.000000              1.000000\n",
      "50%       3.000000              3.000000\n",
      "75%       9.000000              7.000000\n",
      "max     364.000000            135.000000\n",
      "--Article Users Distribution Statistics---\n",
      "        Total Views  Unique Article Views\n",
      "count  33669.000000               33669.0\n",
      "mean       1.365529                   1.0\n",
      "std        1.175020                   0.0\n",
      "min        1.000000                   1.0\n",
      "25%        1.000000                   1.0\n",
      "50%        1.000000                   1.0\n",
      "75%        1.000000                   1.0\n",
      "max       42.000000                   1.0\n"
     ]
    }
   ],
   "source": [
    "print (\"--Article Distribution Statistics---\")\n",
    "print(article_dist.describe())\n",
    "print (\"--Users Distribution Statistics---\")\n",
    "print(user_dist.describe())\n",
    "print (\"--Article Users Distribution Statistics---\")\n",
    "print(user_article_dist.describe())"
   ]
  },
  {
   "cell_type": "code",
   "execution_count": 84,
   "metadata": {},
   "outputs": [],
   "source": [
    "# Fill in the median and maximum number of user_article interactios below\n",
    "\n",
    "median_val = 3 # 50% of individuals interact with ____ number of articles or fewer.\n",
    "max_views_by_user = 42 # The maximum number of user-article interactions by any 1 user is ______."
   ]
  },
  {
   "cell_type": "markdown",
   "metadata": {},
   "source": [
    "`2.` Explore and remove duplicate articles from the **df_content** dataframe.  "
   ]
  },
  {
   "cell_type": "code",
   "execution_count": 85,
   "metadata": {},
   "outputs": [
    {
     "name": "stdout",
     "output_type": "stream",
     "text": [
      "doc_body           1042\n",
      "doc_description    1053\n",
      "doc_full_name      1056\n",
      "doc_status         1056\n",
      "article_id         1056\n",
      "dtype: int64\n",
      "----unique counts----\n",
      "doc_body           1036\n",
      "doc_description    1022\n",
      "doc_full_name      1051\n",
      "doc_status            1\n",
      "article_id         1051\n",
      "dtype: int64\n",
      "----Duplicate articles----\n",
      "article_id\n",
      "50     2\n",
      "221    2\n",
      "232    2\n",
      "398    2\n",
      "577    2\n",
      "Name: article_id, dtype: int64\n"
     ]
    }
   ],
   "source": [
    "# Find and explore duplicate articles\n",
    "print(df_content.count())\n",
    "print(\"----unique counts----\")\n",
    "print(df_content.nunique())\n",
    "df_articles_count=df_content.groupby('article_id')['article_id'].count()\n",
    "print (\"----Duplicate articles----\")\n",
    "print(df_articles_count[df_articles_count>1])"
   ]
  },
  {
   "cell_type": "code",
   "execution_count": 86,
   "metadata": {},
   "outputs": [],
   "source": [
    "# Remove any rows that have the same article_id - only keep the first\n",
    "df_content.drop_duplicates(subset='article_id', keep='first', inplace=True)"
   ]
  },
  {
   "cell_type": "code",
   "execution_count": 87,
   "metadata": {},
   "outputs": [
    {
     "name": "stdout",
     "output_type": "stream",
     "text": [
      "doc_body           1037\n",
      "doc_description    1048\n",
      "doc_full_name      1051\n",
      "doc_status         1051\n",
      "article_id         1051\n",
      "dtype: int64\n"
     ]
    }
   ],
   "source": [
    "#check to see if duplicates were removed\n",
    "print(df_content.count())"
   ]
  },
  {
   "cell_type": "markdown",
   "metadata": {},
   "source": [
    "`3.` Use the cells below to find:\n",
    "\n",
    "**a.** The number of unique articles that have an interaction with a user.  \n",
    "**b.** The number of unique articles in the dataset (whether they have any interactions or not).<br>\n",
    "**c.** The number of unique users in the dataset. (excluding null values) <br>\n",
    "**d.** The number of user-article interactions in the dataset."
   ]
  },
  {
   "cell_type": "code",
   "execution_count": 88,
   "metadata": {},
   "outputs": [
    {
     "name": "stdout",
     "output_type": "stream",
     "text": [
      "----unique articles----\n",
      "Total Views           714\n",
      "Unique Users Views    714\n",
      "dtype: int64\n",
      "----Total articles----\n",
      "doc_body           1031\n",
      "doc_description    1019\n",
      "doc_full_name      1051\n",
      "doc_status            1\n",
      "article_id         1051\n",
      "dtype: int64\n",
      "----Unique User----\n",
      "Total Views             5148\n",
      "Unique Article Views    5148\n",
      "dtype: int64\n",
      "---user_article_interactions---\n",
      "article_id    45993\n",
      "title         45993\n",
      "email         45976\n",
      "dtype: int64\n"
     ]
    }
   ],
   "source": [
    "print(\"----unique articles----\")\n",
    "print(article_dist.count())\n",
    "print(\"----Total articles----\")\n",
    "print(df_content.nunique())\n",
    "print(\"----Unique User----\")\n",
    "print(user_dist.count())\n",
    "print(\"---user_article_interactions---\")\n",
    "print(df.count())"
   ]
  },
  {
   "cell_type": "code",
   "execution_count": 89,
   "metadata": {},
   "outputs": [],
   "source": [
    "unique_articles = 714  # The number of unique articles that have at least one interaction\n",
    "total_articles = 1051 # The number of unique articles on the IBM platform\n",
    "unique_users = 5148 # The number of unique users\n",
    "user_article_interactions = 45993.0 # The number of user-article interactions"
   ]
  },
  {
   "cell_type": "markdown",
   "metadata": {},
   "source": [
    "`4.` Use the cells below to find the most viewed **article_id**, as well as how often it was viewed.  After talking to the company leaders, the `email_mapper` function was deemed a reasonable way to map users to ids.  There were a small number of null values, and it was found that all of these null values likely belonged to a single user (which is how they are stored using the function below)."
   ]
  },
  {
   "cell_type": "code",
   "execution_count": 90,
   "metadata": {},
   "outputs": [
    {
     "name": "stdout",
     "output_type": "stream",
     "text": [
      "                                                       Total Views  \\\n",
      "article_id title                                                     \n",
      "1429.0     use deep learning for image classification          937   \n",
      "\n",
      "                                                       Unique Users Views  \n",
      "article_id title                                                           \n",
      "1429.0     use deep learning for image classification                 397  \n",
      "                                          Total Views  Unique Article Views\n",
      "email                                                                      \n",
      "2b6c0f514c2f2b04ad3c4583407dccd0810469ee          364                   135\n"
     ]
    }
   ],
   "source": [
    "# This is to answer the next section\n",
    "print(article_dist.sort_values(by=['Total Views'], axis=0, ascending=False).head(1))\n",
    "print(user_dist.head(1))"
   ]
  },
  {
   "cell_type": "code",
   "execution_count": 91,
   "metadata": {},
   "outputs": [],
   "source": [
    "most_viewed_article_id = '1429.0' # The most viewed article in the dataset as a string with one value following the decimal \n",
    "max_views = 937.0 # The most viewed article in the dataset was viewed how many times?\n",
    "max_views_by_user= 364"
   ]
  },
  {
   "cell_type": "code",
   "execution_count": 92,
   "metadata": {},
   "outputs": [
    {
     "data": {
      "text/html": [
       "<div>\n",
       "<style scoped>\n",
       "    .dataframe tbody tr th:only-of-type {\n",
       "        vertical-align: middle;\n",
       "    }\n",
       "\n",
       "    .dataframe tbody tr th {\n",
       "        vertical-align: top;\n",
       "    }\n",
       "\n",
       "    .dataframe thead th {\n",
       "        text-align: right;\n",
       "    }\n",
       "</style>\n",
       "<table border=\"1\" class=\"dataframe\">\n",
       "  <thead>\n",
       "    <tr style=\"text-align: right;\">\n",
       "      <th></th>\n",
       "      <th>article_id</th>\n",
       "      <th>title</th>\n",
       "      <th>email</th>\n",
       "      <th>user_id</th>\n",
       "    </tr>\n",
       "  </thead>\n",
       "  <tbody>\n",
       "    <tr>\n",
       "      <th>0</th>\n",
       "      <td>1430.0</td>\n",
       "      <td>using pixiedust for fast, flexible, and easier...</td>\n",
       "      <td>ef5f11f77ba020cd36e1105a00ab868bbdbf7fe7</td>\n",
       "      <td>1</td>\n",
       "    </tr>\n",
       "    <tr>\n",
       "      <th>1</th>\n",
       "      <td>1314.0</td>\n",
       "      <td>healthcare python streaming application demo</td>\n",
       "      <td>083cbdfa93c8444beaa4c5f5e0f5f9198e4f9e0b</td>\n",
       "      <td>2</td>\n",
       "    </tr>\n",
       "    <tr>\n",
       "      <th>2</th>\n",
       "      <td>1429.0</td>\n",
       "      <td>use deep learning for image classification</td>\n",
       "      <td>b96a4f2e92d8572034b1e9b28f9ac673765cd074</td>\n",
       "      <td>3</td>\n",
       "    </tr>\n",
       "    <tr>\n",
       "      <th>3</th>\n",
       "      <td>1338.0</td>\n",
       "      <td>ml optimization using cognitive assistant</td>\n",
       "      <td>06485706b34a5c9bf2a0ecdac41daf7e7654ceb7</td>\n",
       "      <td>4</td>\n",
       "    </tr>\n",
       "    <tr>\n",
       "      <th>4</th>\n",
       "      <td>1276.0</td>\n",
       "      <td>deploy your python model as a restful api</td>\n",
       "      <td>f01220c46fc92c6e6b161b1849de11faacd7ccb2</td>\n",
       "      <td>5</td>\n",
       "    </tr>\n",
       "  </tbody>\n",
       "</table>\n",
       "</div>"
      ],
      "text/plain": [
       "   article_id                                              title  \\\n",
       "0      1430.0  using pixiedust for fast, flexible, and easier...   \n",
       "1      1314.0       healthcare python streaming application demo   \n",
       "2      1429.0         use deep learning for image classification   \n",
       "3      1338.0          ml optimization using cognitive assistant   \n",
       "4      1276.0          deploy your python model as a restful api   \n",
       "\n",
       "                                      email  user_id  \n",
       "0  ef5f11f77ba020cd36e1105a00ab868bbdbf7fe7        1  \n",
       "1  083cbdfa93c8444beaa4c5f5e0f5f9198e4f9e0b        2  \n",
       "2  b96a4f2e92d8572034b1e9b28f9ac673765cd074        3  \n",
       "3  06485706b34a5c9bf2a0ecdac41daf7e7654ceb7        4  \n",
       "4  f01220c46fc92c6e6b161b1849de11faacd7ccb2        5  "
      ]
     },
     "execution_count": 92,
     "metadata": {},
     "output_type": "execute_result"
    }
   ],
   "source": [
    "## No need to change the code here - this will be helpful for later parts of the notebook\n",
    "# Run this cell to map the user email to a user_id column and remove the email column\n",
    "\n",
    "def email_mapper():\n",
    "    coded_dict = dict()\n",
    "    cter = 1\n",
    "    email_encoded = []\n",
    "    \n",
    "    for val in df['email']:\n",
    "        if val not in coded_dict:\n",
    "            coded_dict[val] = cter\n",
    "            cter+=1\n",
    "        \n",
    "        email_encoded.append(coded_dict[val])\n",
    "    return email_encoded\n",
    "\n",
    "email_encoded = email_mapper()\n",
    "#del df['email']\n",
    "df['user_id'] = email_encoded\n",
    "\n",
    "# show header\n",
    "df.head()"
   ]
  },
  {
   "cell_type": "code",
   "execution_count": 93,
   "metadata": {},
   "outputs": [
    {
     "name": "stdout",
     "output_type": "stream",
     "text": [
      "It looks like you have everything right here! Nice job!\n"
     ]
    }
   ],
   "source": [
    "## If you stored all your results in the variable names above, \n",
    "## you shouldn't need to change anything in this cell\n",
    "\n",
    "sol_1_dict = {\n",
    "    '`50% of individuals have _____ or fewer interactions.`': median_val,\n",
    "    '`The total number of user-article interactions in the dataset is ______.`': user_article_interactions,\n",
    "    '`The maximum number of user-article interactions by any 1 user is ______.`': max_views_by_user,\n",
    "    '`The most viewed article in the dataset was viewed _____ times.`': max_views,\n",
    "    '`The article_id of the most viewed article is ______.`': most_viewed_article_id,\n",
    "    '`The number of unique articles that have at least 1 rating ______.`': unique_articles,\n",
    "    '`The number of unique users in the dataset is ______`': unique_users,\n",
    "    '`The number of unique articles on the IBM platform`': total_articles\n",
    "}\n",
    "\n",
    "# Test your dictionary against the solution\n",
    "t.sol_1_test(sol_1_dict)"
   ]
  },
  {
   "cell_type": "markdown",
   "metadata": {},
   "source": [
    "### <a class=\"anchor\" id=\"Rank\">Part II: Rank-Based Recommendations</a>\n",
    "\n",
    "Unlike in the earlier lessons, we don't actually have ratings for whether a user liked an article or not.  We only know that a user has interacted with an article.  In these cases, the popularity of an article can really only be based on how often an article was interacted with.\n",
    "\n",
    "`1.` Fill in the function below to return the **n** top articles ordered with most interactions as the top. Test your function using the tests below."
   ]
  },
  {
   "cell_type": "code",
   "execution_count": 94,
   "metadata": {},
   "outputs": [
    {
     "data": {
      "text/html": [
       "<div>\n",
       "<style scoped>\n",
       "    .dataframe tbody tr th:only-of-type {\n",
       "        vertical-align: middle;\n",
       "    }\n",
       "\n",
       "    .dataframe tbody tr th {\n",
       "        vertical-align: top;\n",
       "    }\n",
       "\n",
       "    .dataframe thead th {\n",
       "        text-align: right;\n",
       "    }\n",
       "</style>\n",
       "<table border=\"1\" class=\"dataframe\">\n",
       "  <thead>\n",
       "    <tr style=\"text-align: right;\">\n",
       "      <th></th>\n",
       "      <th>article_id</th>\n",
       "      <th>title</th>\n",
       "      <th>email</th>\n",
       "      <th>user_id</th>\n",
       "    </tr>\n",
       "  </thead>\n",
       "  <tbody>\n",
       "    <tr>\n",
       "      <th>0</th>\n",
       "      <td>1430.0</td>\n",
       "      <td>using pixiedust for fast, flexible, and easier...</td>\n",
       "      <td>ef5f11f77ba020cd36e1105a00ab868bbdbf7fe7</td>\n",
       "      <td>1</td>\n",
       "    </tr>\n",
       "    <tr>\n",
       "      <th>1</th>\n",
       "      <td>1314.0</td>\n",
       "      <td>healthcare python streaming application demo</td>\n",
       "      <td>083cbdfa93c8444beaa4c5f5e0f5f9198e4f9e0b</td>\n",
       "      <td>2</td>\n",
       "    </tr>\n",
       "    <tr>\n",
       "      <th>2</th>\n",
       "      <td>1429.0</td>\n",
       "      <td>use deep learning for image classification</td>\n",
       "      <td>b96a4f2e92d8572034b1e9b28f9ac673765cd074</td>\n",
       "      <td>3</td>\n",
       "    </tr>\n",
       "    <tr>\n",
       "      <th>3</th>\n",
       "      <td>1338.0</td>\n",
       "      <td>ml optimization using cognitive assistant</td>\n",
       "      <td>06485706b34a5c9bf2a0ecdac41daf7e7654ceb7</td>\n",
       "      <td>4</td>\n",
       "    </tr>\n",
       "    <tr>\n",
       "      <th>4</th>\n",
       "      <td>1276.0</td>\n",
       "      <td>deploy your python model as a restful api</td>\n",
       "      <td>f01220c46fc92c6e6b161b1849de11faacd7ccb2</td>\n",
       "      <td>5</td>\n",
       "    </tr>\n",
       "  </tbody>\n",
       "</table>\n",
       "</div>"
      ],
      "text/plain": [
       "   article_id                                              title  \\\n",
       "0      1430.0  using pixiedust for fast, flexible, and easier...   \n",
       "1      1314.0       healthcare python streaming application demo   \n",
       "2      1429.0         use deep learning for image classification   \n",
       "3      1338.0          ml optimization using cognitive assistant   \n",
       "4      1276.0          deploy your python model as a restful api   \n",
       "\n",
       "                                      email  user_id  \n",
       "0  ef5f11f77ba020cd36e1105a00ab868bbdbf7fe7        1  \n",
       "1  083cbdfa93c8444beaa4c5f5e0f5f9198e4f9e0b        2  \n",
       "2  b96a4f2e92d8572034b1e9b28f9ac673765cd074        3  \n",
       "3  06485706b34a5c9bf2a0ecdac41daf7e7654ceb7        4  \n",
       "4  f01220c46fc92c6e6b161b1849de11faacd7ccb2        5  "
      ]
     },
     "execution_count": 94,
     "metadata": {},
     "output_type": "execute_result"
    }
   ],
   "source": [
    "df.head()"
   ]
  },
  {
   "cell_type": "code",
   "execution_count": 95,
   "metadata": {},
   "outputs": [],
   "source": [
    "def get_top_articles(n, df=df):\n",
    "    '''\n",
    "    INPUT:\n",
    "    n - (int) the number of top articles to return\n",
    "    df - (pandas dataframe) df as defined at the top of the notebook \n",
    "    \n",
    "    OUTPUT:\n",
    "    top_articles - (list) A list of the top 'n' article titles \n",
    "    \n",
    "    '''\n",
    "    # Your code here\n",
    "    article_dist = article_users_summary(df)[0]\n",
    "    article_dist = article_dist.head(n)\n",
    "    article_dist=article_dist.reset_index()\n",
    "    top_articles = article_dist ['title']\n",
    "    \n",
    "    \n",
    "    return top_articles # Return the top article titles from df (not df_content)\n",
    "\n",
    "def get_top_article_ids(n, df=df):\n",
    "    '''\n",
    "    INPUT:\n",
    "    n - (int) the number of top articles to return\n",
    "    df - (pandas dataframe) df as defined at the top of the notebook \n",
    "    \n",
    "    OUTPUT:\n",
    "    top_articles - (list) A list of the top 'n' article titles \n",
    "    \n",
    "    '''\n",
    "    # Your code here\n",
    "    article_dist = article_users_summary(df)[0]\n",
    "    article_dist = article_dist.head(n)\n",
    "    article_dist=article_dist.reset_index()\n",
    "    top_articles = article_dist ['article_id']\n",
    " \n",
    "    return top_articles # Return the top article ids"
   ]
  },
  {
   "cell_type": "code",
   "execution_count": 96,
   "metadata": {},
   "outputs": [
    {
     "name": "stdout",
     "output_type": "stream",
     "text": [
      "0           use deep learning for image classification\n",
      "1          insights from new york car accident reports\n",
      "2                       visualize car data with brunel\n",
      "3    use xgboost, scikit-learn & ibm watson machine...\n",
      "4    predicting churn with the spss random tree alg...\n",
      "5         healthcare python streaming application demo\n",
      "6    finding optimal locations of new store using d...\n",
      "7             apache spark lab, part 1: basic concepts\n",
      "8              analyze energy consumption in buildings\n",
      "9    gosales transactions for logistic regression m...\n",
      "Name: title, dtype: object\n",
      "0    1429.0\n",
      "1    1330.0\n",
      "2    1431.0\n",
      "3    1427.0\n",
      "4    1364.0\n",
      "5    1314.0\n",
      "6    1293.0\n",
      "7    1170.0\n",
      "8    1162.0\n",
      "9    1304.0\n",
      "Name: article_id, dtype: float64\n"
     ]
    }
   ],
   "source": [
    "print(get_top_articles(10))\n",
    "print(get_top_article_ids(10))"
   ]
  },
  {
   "cell_type": "code",
   "execution_count": 97,
   "metadata": {},
   "outputs": [
    {
     "name": "stdout",
     "output_type": "stream",
     "text": [
      "Your top_5 looks like the solution list! Nice job.\n",
      "Your top_10 looks like the solution list! Nice job.\n",
      "Your top_20 looks like the solution list! Nice job.\n"
     ]
    }
   ],
   "source": [
    "# Test your function by returning the top 5, 10, and 20 articles\n",
    "top_5 = get_top_articles(5)\n",
    "top_10 = get_top_articles(10)\n",
    "top_20 = get_top_articles(20)\n",
    "\n",
    "# Test each of your three lists from above\n",
    "t.sol_2_test(get_top_articles)"
   ]
  },
  {
   "cell_type": "markdown",
   "metadata": {},
   "source": [
    "### <a class=\"anchor\" id=\"User-User\">Part III: User-User Based Collaborative Filtering</a>\n",
    "\n",
    "\n",
    "`1.` Use the function below to reformat the **df** dataframe to be shaped with users as the rows and articles as the columns.  \n",
    "\n",
    "* Each **user** should only appear in each **row** once.\n",
    "\n",
    "\n",
    "* Each **article** should only show up in one **column**.  \n",
    "\n",
    "\n",
    "* **If a user has interacted with an article, then place a 1 where the user-row meets for that article-column**.  It does not matter how many times a user has interacted with the article, all entries where a user has interacted with an article should be a 1.  \n",
    "\n",
    "\n",
    "* **If a user has not interacted with an item, then place a zero where the user-row meets for that article-column**. \n",
    "\n",
    "Use the tests to make sure the basic structure of your matrix matches what is expected by the solution."
   ]
  },
  {
   "cell_type": "code",
   "execution_count": 98,
   "metadata": {},
   "outputs": [],
   "source": [
    "# create the user-article matrix with 1's and 0's\n",
    "\n",
    "def create_user_item_matrix(df):\n",
    "    '''\n",
    "    INPUT:\n",
    "    df - pandas dataframe with article_id, title, user_id columns\n",
    "    \n",
    "    OUTPUT:\n",
    "    user_item - user item matrix \n",
    "    \n",
    "    Description:\n",
    "    Return a matrix with user ids as rows and article ids on the columns with 1 values where a user interacted with \n",
    "    an article and a 0 otherwise\n",
    "    '''\n",
    "    # Fill in the function here\n",
    "    user_article_dist = article_users_summary(df, email='user_id')[2]\n",
    "    user_article_dist.reset_index(level=2, drop=True, inplace=True)\n",
    "    user_article_dist['dummy']=1\n",
    "    \n",
    "    del user_article_dist['Total Views']\n",
    "    del user_article_dist['Unique Article Views']\n",
    "    user_item=user_article_dist.unstack()    \n",
    "    user_item.columns=user_item.columns.droplevel(0)    \n",
    "    return user_item # return the user_item matrix \n",
    "\n",
    "user_item = create_user_item_matrix(df)"
   ]
  },
  {
   "cell_type": "code",
   "execution_count": 99,
   "metadata": {},
   "outputs": [
    {
     "name": "stdout",
     "output_type": "stream",
     "text": [
      "You have passed our quick tests!  Please proceed!\n"
     ]
    }
   ],
   "source": [
    "## Tests: You should just need to run this cell.  Don't change the code.\n",
    "assert user_item.shape[0] == 5149, \"Oops!  The number of users in the user-article matrix doesn't look right.\"\n",
    "assert user_item.shape[1] == 714, \"Oops!  The number of articles in the user-article matrix doesn't look right.\"\n",
    "assert user_item.sum(axis=1)[1] == 36, \"Oops!  The number of articles seen by user 1 doesn't look right.\"\n",
    "print(\"You have passed our quick tests!  Please proceed!\")"
   ]
  },
  {
   "cell_type": "markdown",
   "metadata": {},
   "source": [
    "`2.` Complete the function below which should take a user_id and provide an ordered list of the most similar users to that user (from most similar to least similar).  The returned result should not contain the provided user_id, as we know that each user is similar to him/herself. Because the results for each user here are binary, it (perhaps) makes sense to compute similarity as the dot product of two users. \n",
    "\n",
    "Use the tests to test your function."
   ]
  },
  {
   "cell_type": "code",
   "execution_count": 100,
   "metadata": {},
   "outputs": [],
   "source": [
    "def pearson_corr(x, y):\n",
    "    '''\n",
    "    INPUT\n",
    "    x - an array of matching length to array y\n",
    "    y - an array of matching length to array x\n",
    "    OUTPUT\n",
    "    corr - the pearson correlation coefficient for comparing x and y\n",
    "    '''\n",
    "    # Compute Mean Values\n",
    "    mean_x, mean_y = np.sum(x)/len(x), np.sum(y)/len(y) \n",
    "    \n",
    "    x_diffs = x - mean_x\n",
    "    y_diffs = y - mean_y\n",
    "    numerator = np.sum(x_diffs*y_diffs)\n",
    "    denominator = np.sqrt(np.sum(x_diffs**2))*np.sqrt(np.sum(y_diffs**2))\n",
    "        \n",
    "    corr = numerator/denominator\n",
    "                            \n",
    "    return corr \n"
   ]
  },
  {
   "cell_type": "code",
   "execution_count": 101,
   "metadata": {},
   "outputs": [],
   "source": [
    "# Pearson Method\n",
    "def find_similar_users(user_id, user_item=user_item):\n",
    "    '''\n",
    "    INPUT:\n",
    "    user_id - (int) a user_id\n",
    "    user_item - (pandas dataframe) matrix of users by articles: \n",
    "                1's when a user has interacted with an article, 0 otherwise\n",
    "    \n",
    "    OUTPUT:\n",
    "    similar_users - (list) an ordered list where the closest users (largest dot product users)\n",
    "                    are listed first\n",
    "    \n",
    "    Description:\n",
    "    Computes the similarity of every pair of users based on the dot product\n",
    "    Returns an ordered\n",
    "    \n",
    "    '''\n",
    "    item_user=user_item.fillna(0)\n",
    "    item_user=item_user.T\n",
    "    \n",
    "    # compute similarity of each user to the provided user   \n",
    "    \n",
    "    ls=[]    \n",
    "    for x in item_user.columns:\n",
    "        ls.append([x,pearson_corr(item_user[user_id], item_user[x])])    \n",
    "    corr = pd.DataFrame(ls)\n",
    "    corr.columns=['user_id','corr_coff']\n",
    "    \n",
    "    # sort by similarity\n",
    "    corr.sort_values(by=['corr_coff'], axis=0, ascending=False, inplace=True)\n",
    "      \n",
    "    # remove the own user's id\n",
    "    corr = corr[corr.user_id != user_id]\n",
    "    # create list of just the ids\n",
    "    most_similar_users = corr['user_id'].tolist() \n",
    "    sim_score = corr['corr_coff'].tolist() \n",
    "    return most_similar_users, sim_score # return a list of the users in order from most to least similar\n",
    "        "
   ]
  },
  {
   "cell_type": "code",
   "execution_count": 102,
   "metadata": {},
   "outputs": [
    {
     "name": "stdout",
     "output_type": "stream",
     "text": [
      "The 10 most similar users to user 1 are: [3933, 5034, 253, 824, 46, 4201, 136, 2305, 4504, 2447]\n",
      "The 5 most similar users to user 3933 are: [1, 824, 253, 5034, 4201]\n",
      "The 3 most similar users to user 46 are: [4201, 790, 5077]\n"
     ]
    }
   ],
   "source": [
    "# Do a spot check of your function\n",
    "print(\"The 10 most similar users to user 1 are: {}\".format(find_similar_users(1)[0][:10]))\n",
    "print(\"The 5 most similar users to user 3933 are: {}\".format(find_similar_users(3933)[0][:5]))\n",
    "print(\"The 3 most similar users to user 46 are: {}\".format(find_similar_users(46)[0][:3]))"
   ]
  },
  {
   "cell_type": "code",
   "execution_count": 103,
   "metadata": {},
   "outputs": [],
   "source": [
    "# Euclidean distance method\n",
    "def find_similar_users(user_id, user_item=user_item):\n",
    "    '''\n",
    "    INPUT:\n",
    "    user_id - (int) a user_id\n",
    "    user_item - (pandas dataframe) matrix of users by articles: \n",
    "                1's when a user has interacted with an article, 0 otherwise\n",
    "    \n",
    "    OUTPUT:\n",
    "    similar_users - (list) an ordered list where the closest users (largest dot product users)\n",
    "                    are listed first\n",
    "    \n",
    "    Description:\n",
    "    Computes the similarity of every pair of users based on the dot product\n",
    "    Returns an ordered\n",
    "    \n",
    "    '''\n",
    "    user_item=user_item.fillna(0)\n",
    "    x=user_item.loc[user_id]\n",
    "    x.name= 100\n",
    "    # compute similarity of each user to the provided user       \n",
    "    ls=[]    \n",
    "    for index, row in user_item.iterrows():            \n",
    "        y= user_item.loc[index]\n",
    "        corr_coff=np.linalg.norm(x - y)       \n",
    "        ls.append([index,corr_coff])    \n",
    "    corr = pd.DataFrame(ls)\n",
    "    corr.columns=['user_id','corr_coff']\n",
    "    \n",
    "    # sort by similarity\n",
    "    corr.sort_values(by=['corr_coff'], axis=0, ascending=True, inplace=True)\n",
    "      \n",
    "    # remove the own user's id\n",
    "    corr = corr[corr.user_id != user_id]\n",
    "    # create list of just the ids\n",
    "    most_similar_users = corr['user_id'].tolist()\n",
    "    sim_score = corr['corr_coff'].tolist() \n",
    "    return most_similar_users, sim_score # return a list of the users in order from most to least similar\n",
    "        \n",
    "    "
   ]
  },
  {
   "cell_type": "code",
   "execution_count": 104,
   "metadata": {},
   "outputs": [
    {
     "name": "stdout",
     "output_type": "stream",
     "text": [
      "The 10 most similar users to user 1 are: [3933, 253, 824, 5034, 4020, 3031, 136, 2447, 4504, 2305]\n",
      "The 5 most similar users to user 3933 are: [1, 824, 253, 5034, 3031]\n",
      "The 3 most similar users to user 46 are: [4201, 790, 248]\n"
     ]
    }
   ],
   "source": [
    "# Do a spot check of your function\n",
    "print(\"The 10 most similar users to user 1 are: {}\".format(find_similar_users(1)[0][:10]))\n",
    "print(\"The 5 most similar users to user 3933 are: {}\".format(find_similar_users(3933)[0][:5]))\n",
    "print(\"The 3 most similar users to user 46 are: {}\".format(find_similar_users(46)[0][:3]))"
   ]
  },
  {
   "cell_type": "markdown",
   "metadata": {},
   "source": [
    "`3.` Now that you have a function that provides the most similar users to each user, you will want to use these users to find articles you can recommend.  Complete the functions below to return the articles you would recommend to each user. "
   ]
  },
  {
   "cell_type": "code",
   "execution_count": 105,
   "metadata": {},
   "outputs": [],
   "source": [
    "def get_article_names(article_ids, df=df):\n",
    "    '''\n",
    "    INPUT:\n",
    "    article_ids - (list) a list of article ids\n",
    "    df - (pandas dataframe) df as defined at the top of the notebook\n",
    "    \n",
    "    OUTPUT:\n",
    "    article_names - (list) a list of article names associated with the list of article ids \n",
    "                    (this is identified by the title column)\n",
    "    '''\n",
    "    # Your code here\n",
    "    article_names=list(set(df[df['article_id'].isin(article_ids)]['title'].tolist()))\n",
    "    return article_names # Return the article names associated with list of article ids\n",
    "\n",
    "\n",
    "def get_user_articles(user_id, df=df ):\n",
    "    '''\n",
    "    INPUT:\n",
    "    user_id - (int) a user id\n",
    "    user_item - (pandas dataframe) matrix of users by articles: \n",
    "                1's when a user has interacted with an article, 0 otherwise\n",
    "    \n",
    "    OUTPUT:\n",
    "    article_ids - (list) a list of the article ids seen by the user\n",
    "    article_names - (list) a list of article names associated with the list of article ids \n",
    "                    (this is identified by the doc_full_name column in df_content)\n",
    "    \n",
    "    Description:\n",
    "    Provides a list of the article_ids and article titles that have been seen by a user\n",
    "    '''\n",
    "    # Your code here    \n",
    "    user_article_dist=article_users_summary(df=df[df['user_id']==user_id], email='user_id')[2]\n",
    "    user_article_dist=user_article_dist.reset_index()     \n",
    "    article_ids=user_article_dist['article_id'].tolist()\n",
    "    article_names=get_article_names(article_ids, df=df)\n",
    "    return article_ids, article_names # return the ids and names\n",
    "\n",
    "\n",
    "def user_user_recs(user_id, df=df, m=10):\n",
    "    '''\n",
    "    INPUT:\n",
    "    user_id - (int) a user id\n",
    "    m - (int) the number of recommendations you want for the user\n",
    "    \n",
    "    OUTPUT:\n",
    "    recs - (list) a list of recommendations for the user\n",
    "    \n",
    "    Description:\n",
    "    Loops through the users based on closeness to the input user_id\n",
    "    For each user - finds articles the user hasn't seen before and provides them as recs\n",
    "    Does this until m recommendations are found\n",
    "    \n",
    "    Notes:\n",
    "    Users who are the same closeness are chosen arbitrarily as the 'next' user\n",
    "    \n",
    "    For the user where the number of recommended articles starts below m \n",
    "    and ends exceeding m, the last items are chosen arbitrarily\n",
    "    \n",
    "    '''\n",
    "    # Your code here\n",
    "    \n",
    "    similar_users=find_similar_users(user_id)[0][:50]\n",
    "    # Articles already seen by the user\n",
    "    seen_article_ids= get_user_articles(user_id,df)[0]\n",
    "    articles=[]\n",
    "    #listing articles for each neighborhood users\n",
    "    for x in similar_users:\n",
    "        article_ids, article_names = get_user_articles(x,df)\n",
    "        #User Id has been added here as articles seen by most similar user will be presented first\n",
    "        combined_list=list(zip([x]*len(article_ids),article_ids, article_names))\n",
    "        articles.extend (combined_list)\n",
    "    # This is the list of  articles recommended for the users\n",
    "    articles=pd.DataFrame(articles)\n",
    "    articles.columns=['user_id','article_id','title']\n",
    "    # Deleting the articles already seen by the user\n",
    "    articles=articles[~articles['user_id'].isin(seen_article_ids)]\n",
    "    # This will be used in subsequent section\n",
    "    user_articles=articles\n",
    "    #del articles[0]\n",
    "    articles.drop_duplicates(subset=['article_id'],keep='first',inplace=True)\n",
    "    articles=articles.head(m)\n",
    "    recs= list(set(articles['article_id'].tolist())) \n",
    "    return recs , user_articles # return your recommendations for this user_id    "
   ]
  },
  {
   "cell_type": "code",
   "execution_count": 106,
   "metadata": {},
   "outputs": [
    {
     "data": {
      "text/plain": [
       "['apache spark lab, part 1: basic concepts',\n",
       " 'visualize car data with brunel',\n",
       " 'predict loan applicant behavior with tensorflow neural networking',\n",
       " 'tidyverse practice: mapping large european cities',\n",
       " 'access db2 warehouse on cloud and db2 with python',\n",
       " 'classify tumors with machine learning',\n",
       " 'using pixiedust for fast, flexible, and easier data analysis and experimentation',\n",
       " 'categorize urban density',\n",
       " 'uci: iris',\n",
       " 'shiny: a data scientist’s best friend']"
      ]
     },
     "execution_count": 106,
     "metadata": {},
     "output_type": "execute_result"
    }
   ],
   "source": [
    "# Check Results\n",
    "get_article_names(user_user_recs(1, df, 10)[0]) # Return 10 recommendations for user 1"
   ]
  },
  {
   "cell_type": "code",
   "execution_count": 107,
   "metadata": {},
   "outputs": [
    {
     "name": "stdout",
     "output_type": "stream",
     "text": [
      "If this is all you see, you passed all of our tests!  Nice job!\n"
     ]
    }
   ],
   "source": [
    "# Test your functions here - No need to change this code - just run this cell\n",
    "assert set(get_article_names(['1024.0', '1176.0', '1305.0', '1314.0', '1422.0', '1427.0'])) == set(['using deep learning to reconstruct high-resolution audio', 'build a python app on the streaming analytics service', 'gosales transactions for naive bayes model', 'healthcare python streaming application demo', 'use r dataframes & ibm watson natural language understanding', 'use xgboost, scikit-learn & ibm watson machine learning apis']), \"Oops! Your the get_article_names function doesn't work quite how we expect.\"\n",
    "assert set(get_article_names(['1320.0', '232.0', '844.0'])) == set(['housing (2015): united states demographic measures','self-service data preparation with ibm data refinery','use the cloudant-spark connector in python notebook']), \"Oops! Your the get_article_names function doesn't work quite how we expect.\"\n",
    "assert set(get_user_articles(20)[0]) == set([ 232.0, 844.0,1320.0])\n",
    "assert set(get_user_articles(20)[1]) == set(['housing (2015): united states demographic measures', 'self-service data preparation with ibm data refinery','use the cloudant-spark connector in python notebook'])\n",
    "assert set(get_user_articles(2)[0]) == set([1024.0, 1176.0, 1305.0, 1314.0, 1422.0, 1427.0])\n",
    "\n",
    "assert set(get_user_articles(2)[1]) == set(['using deep learning to reconstruct high-resolution audio', 'build a python app on the streaming analytics service', 'gosales transactions for naive bayes model', 'healthcare python streaming application demo', 'use r dataframes & ibm watson natural language understanding', 'use xgboost, scikit-learn & ibm watson machine learning apis'])\n",
    "print(\"If this is all you see, you passed all of our tests!  Nice job!\")"
   ]
  },
  {
   "cell_type": "markdown",
   "metadata": {},
   "source": [
    "`4.` Now we are going to improve the consistency of the **user_user_recs** function from above.  \n",
    "\n",
    "* Instead of arbitrarily choosing when we obtain users who are all the same closeness to a given user - choose the users that have the most total article interactions before choosing those with fewer article interactions.\n",
    "\n",
    "\n",
    "* Instead of arbitrarily choosing articles from the user where the number of recommended articles starts below m and ends exceeding m, choose articles with the articles with the most total interactions before choosing those with fewer total interactions. This ranking should be  what would be obtained from the **top_articles** function you wrote earlier."
   ]
  },
  {
   "cell_type": "code",
   "execution_count": 108,
   "metadata": {},
   "outputs": [],
   "source": [
    "def get_top_sorted_users(user_id, df=df):\n",
    "    '''\n",
    "    INPUT:\n",
    "    user_id - (int)\n",
    "    df - (pandas dataframe) df as defined at the top of the notebook \n",
    "    user_item - (pandas dataframe) matrix of users by articles: \n",
    "            1's when a user has interacted with an article, 0 otherwise\n",
    "    \n",
    "            \n",
    "    OUTPUT:\n",
    "    neighbors_df - (pandas dataframe) a dataframe with:\n",
    "                    neighbor_id - is a neighbor user_id\n",
    "                    similarity - measure of the similarity of each user to the provided user_id\n",
    "                    num_interactions - the number of articles viewed by the user - if a u\n",
    "                    \n",
    "    Other Details - sort the neighbors_df by the similarity and then by number of interactions where \n",
    "                    highest of each is higher in the dataframe\n",
    "     \n",
    "    '''\n",
    "    # Your code here\n",
    "\n",
    "    neighbor_id, sim_score=find_similar_users(user_id)\n",
    "    # Creating DataFrame\n",
    "    neighbors_df=pd.DataFrame(list(zip(neighbor_id, sim_score)))\n",
    "    neighbors_df.columns=['neighbor_id','Similarity_Distance']\n",
    "    \n",
    "    # Distribution of users by Total Views and unique articles view\n",
    "    user_summary=article_users_summary(df, email='user_id')[1].reset_index()\n",
    "    \n",
    "    # Merging with user summary with similarity score\n",
    "    neighbors_df=neighbors_df.merge(user_summary, how='inner', left_on='neighbor_id', right_on='user_id')\n",
    "    del neighbors_df['user_id']\n",
    "    del neighbors_df['Total Views']\n",
    "    neighbors_df=neighbors_df.sort_values(by=['Similarity_Distance','Unique Article Views'], ascending =[True, False])\n",
    "\n",
    "    return neighbors_df # Return the dataframe specified in the doc_string\n",
    "\n",
    "\n",
    "def user_user_recs_part2(user_id, df=df, m=10, n=10):\n",
    "    '''\n",
    "    INPUT:\n",
    "    user_id - (int) a user id\n",
    "    m - (int) the number of recommendations you want for the user\n",
    "    \n",
    "    OUTPUT:\n",
    "    recs - (list) a list of recommendations for the user by article id\n",
    "    rec_names - (list) a list of recommendations for the user by article title\n",
    "    \n",
    "    Description:\n",
    "    Loops through the users based on closeness to the input user_id\n",
    "    For each user - finds articles the user hasn't seen before and provides them as recs\n",
    "    Does this until m recommendations are found\n",
    "    \n",
    "    Notes:\n",
    "    * Choose the users that have the most total article interactions \n",
    "    before choosing those with fewer article interactions.\n",
    "\n",
    "    * Choose articles with the articles with the most total interactions \n",
    "    before choosing those with fewer total interactions. \n",
    "   \n",
    "    '''\n",
    "    # Your code here\n",
    "\n",
    "    # This gives the neighborhood users and articles they have viewed\n",
    "    users_articles_interaction= user_user_recs(user_id, df, m)[1]\n",
    "    \n",
    "    # This give popular articles irrespective of neighborhood users\n",
    "    articles=article_users_summary(df, email='user_id')[0].reset_index()\n",
    "    \n",
    "    # This gives ranking of users\n",
    "    neighbors=get_top_sorted_users(user_id, df)\n",
    "    \n",
    "    \n",
    "    # Mergin all\n",
    "    articles = articles.merge(users_articles_interaction,how='inner', left_on='article_id', right_on='article_id')\n",
    "    articles = articles.merge(neighbors,how='inner', left_on='user_id', right_on='neighbor_id')\n",
    "    recs= list(set(articles['article_id'].tolist()))\n",
    "    rec_names= list(set(articles['title_x'].tolist()))\n",
    "    return recs[:m], rec_names[:m]"
   ]
  },
  {
   "cell_type": "code",
   "execution_count": 109,
   "metadata": {},
   "outputs": [
    {
     "name": "stdout",
     "output_type": "stream",
     "text": [
      "The top 10 recommendations for user 20 are the following article ids:\n",
      "[1163.0, 1293.0, 1304.0, 1180.0, 669.0, 1053.0, 1439.0, 1183.0, 1320.0, 297.0]\n",
      "\n",
      "The top 10 recommendations for user 20 are the following article names:\n",
      "['uci ml repository: chronic kidney disease data set', 'housing (2015): united states demographic measures', 'income (2015): united states demographic measures', 'why even a moth’s brain is smarter than an ai', 'using apply, sapply, lapply in r', 'finding optimal locations of new store using decision optimization', 'self-service data preparation with ibm data refinery', 'model bike sharing data with spss', 'python for loops explained (python for data science basics #5)', '70 amazing free data sources you should know']\n"
     ]
    }
   ],
   "source": [
    "# Quick spot check - don't change this code - just use it to test your functions\n",
    "rec_ids, rec_names = user_user_recs_part2(20, df,10,10)\n",
    "print(\"The top 10 recommendations for user 20 are the following article ids:\")\n",
    "print(rec_ids)\n",
    "print()\n",
    "print(\"The top 10 recommendations for user 20 are the following article names:\")\n",
    "print(rec_names)"
   ]
  },
  {
   "cell_type": "markdown",
   "metadata": {},
   "source": [
    "`5.` Use your functions from above to correctly fill in the solutions to the dictionary below.  Then test your dictionary against the solution.  Provide the code you need to answer each following the comments below."
   ]
  },
  {
   "cell_type": "code",
   "execution_count": 110,
   "metadata": {},
   "outputs": [
    {
     "name": "stdout",
     "output_type": "stream",
     "text": [
      "The 1 most similar users to user 1 are: [3933]\n",
      "The 10 most similar users to user 131 are: [3870, 163, 4921, 6, 199, 4904, 4618, 4437, 1176, 1566]\n"
     ]
    }
   ],
   "source": [
    "### Tests with a dictionary of results\n",
    "print(\"The 1 most similar users to user 1 are: {}\".format(find_similar_users(1)[0][:1]))\n",
    "\n",
    "user1_most_sim = 3933 # Find the user that is most similar to user 1 \n",
    "print(\"The 10 most similar users to user 131 are: {}\".format(find_similar_users(131)[0][:10]))\n",
    "\n",
    "user131_10th_sim = 1566 # Find the 10th most similar user to user 131"
   ]
  },
  {
   "cell_type": "code",
   "execution_count": 111,
   "metadata": {},
   "outputs": [
    {
     "name": "stdout",
     "output_type": "stream",
     "text": [
      "Oops!  Looks like there is a mistake with the The user that is the 10th most similar to user 131 key in your dictionary.  The answer should be 242.  Try again.\n"
     ]
    }
   ],
   "source": [
    "## Dictionary Test Here\n",
    "sol_5_dict = {\n",
    "    'The user that is most similar to user 1.': user1_most_sim, \n",
    "    'The user that is the 10th most similar to user 131': user131_10th_sim\n",
    "}\n",
    "\n",
    "t.sol_5_test(sol_5_dict)\n"
   ]
  },
  {
   "cell_type": "markdown",
   "metadata": {},
   "source": [
    "`6.` If we were given a new user, which of the above functions would you be able to use to make recommendations?  Explain.  Can you think of a better way we might make recommendations?  Use the cell below to explain a better method for new users."
   ]
  },
  {
   "cell_type": "markdown",
   "metadata": {},
   "source": [
    "**Provide your response here.**"
   ]
  },
  {
   "cell_type": "markdown",
   "metadata": {},
   "source": [
    "`7.` Using your existing functions, provide the top 10 recommended articles you would provide for the a new user below.  You can test your function against our thoughts to make sure we are all on the same page with how we might make a recommendation."
   ]
  },
  {
   "cell_type": "code",
   "execution_count": 112,
   "metadata": {},
   "outputs": [],
   "source": [
    "new_user = '0.0'\n",
    "\n",
    "# What would your recommendations be for this new user '0.0'?  As a new user, they have no observed articles.\n",
    "# Provide a list of the top 10 article ids you would give to \n",
    "new_user_recs = article_users_summary(df=df, email='email')[0].reset_index()\n",
    "#new_user_recs.head()\n",
    "new_user_recs=new_user_recs['article_id'].head(10).tolist() # Your recommendations here\n",
    "\n"
   ]
  },
  {
   "cell_type": "code",
   "execution_count": 113,
   "metadata": {},
   "outputs": [
    {
     "name": "stdout",
     "output_type": "stream",
     "text": [
      "That's right!  Nice job!\n"
     ]
    }
   ],
   "source": [
    "assert set(new_user_recs) == set([1314.0,1429.0,1293.0,1427.0,1162.0,1364.0,1304.0,1170.0,1431.0,1330.0]), \"Oops!  It makes sense that in this case we would want to recommend the most popular articles, because we don't know anything about these users.\"\n",
    "\n",
    "print(\"That's right!  Nice job!\")"
   ]
  },
  {
   "cell_type": "markdown",
   "metadata": {},
   "source": [
    "### <a class=\"anchor\" id=\"Content-Recs\">Part IV: Content Based Recommendations (EXTRA - NOT REQUIRED)</a>\n",
    "\n",
    "Another method we might use to make recommendations is to perform a ranking of the highest ranked articles associated with some term.  You might consider content to be the **doc_body**, **doc_description**, or **doc_full_name**.  There isn't one way to create a content based recommendation, especially considering that each of these columns hold content related information.  \n",
    "\n",
    "`1.` Use the function body below to create a content based recommender.  Since there isn't one right answer for this recommendation tactic, no test functions are provided.  Feel free to change the function inputs if you decide you want to try a method that requires more input values.  The input values are currently set with one idea in mind that you may use to make content based recommendations.  One additional idea is that you might want to choose the most popular recommendations that meet your 'content criteria', but again, there is a lot of flexibility in how you might make these recommendations.\n",
    "\n",
    "### This part is NOT REQUIRED to pass this project.  However, you may choose to take this on as an extra way to show off your skills."
   ]
  },
  {
   "cell_type": "code",
   "execution_count": 114,
   "metadata": {},
   "outputs": [],
   "source": [
    "def make_content_recs():\n",
    "    '''\n",
    "    INPUT:\n",
    "    \n",
    "    OUTPUT:\n",
    "    \n",
    "    '''"
   ]
  },
  {
   "cell_type": "markdown",
   "metadata": {},
   "source": [
    "`2.` Now that you have put together your content-based recommendation system, use the cell below to write a summary explaining how your content based recommender works.  Do you see any possible improvements that could be made to your function?  Is there anything novel about your content based recommender?\n",
    "\n",
    "### This part is NOT REQUIRED to pass this project.  However, you may choose to take this on as an extra way to show off your skills."
   ]
  },
  {
   "cell_type": "markdown",
   "metadata": {},
   "source": [
    "**Write an explanation of your content based recommendation system here.**"
   ]
  },
  {
   "cell_type": "markdown",
   "metadata": {},
   "source": [
    "`3.` Use your content-recommendation system to make recommendations for the below scenarios based on the comments.  Again no tests are provided here, because there isn't one right answer that could be used to find these content based recommendations.\n",
    "\n",
    "### This part is NOT REQUIRED to pass this project.  However, you may choose to take this on as an extra way to show off your skills."
   ]
  },
  {
   "cell_type": "code",
   "execution_count": 115,
   "metadata": {},
   "outputs": [],
   "source": [
    "# make recommendations for a brand new user\n",
    "\n",
    "\n",
    "# make a recommendations for a user who only has interacted with article id '1427.0'\n",
    "\n"
   ]
  },
  {
   "cell_type": "markdown",
   "metadata": {},
   "source": [
    "### <a class=\"anchor\" id=\"Matrix-Fact\">Part V: Matrix Factorization</a>\n",
    "\n",
    "In this part of the notebook, you will build use matrix factorization to make article recommendations to the users on the IBM Watson Studio platform.\n",
    "\n",
    "`1.` You should have already created a **user_item** matrix above in **question 1** of **Part III** above.  This first question here will just require that you run the cells to get things set up for the rest of **Part V** of the notebook. "
   ]
  },
  {
   "cell_type": "code",
   "execution_count": 116,
   "metadata": {},
   "outputs": [],
   "source": [
    "# Load the matrix here\n",
    "user_item_matrix =user_item.fillna(0) # pd.read_pickle('user_item_matrix.p')"
   ]
  },
  {
   "cell_type": "markdown",
   "metadata": {},
   "source": [
    "`2.` In this situation, you can use Singular Value Decomposition from [numpy](https://docs.scipy.org/doc/numpy-1.14.0/reference/generated/numpy.linalg.svd.html) on the user-item matrix.  Use the cell to perform SVD, and explain why this is different than in the lesson."
   ]
  },
  {
   "cell_type": "code",
   "execution_count": 117,
   "metadata": {},
   "outputs": [],
   "source": [
    "# Perform SVD on the User-Item Matrix Here\n",
    "\n",
    "u, s, vt = np.linalg.svd(user_item_matrix)# use the built in to get the three matrices"
   ]
  },
  {
   "cell_type": "code",
   "execution_count": 118,
   "metadata": {},
   "outputs": [
    {
     "data": {
      "text/plain": [
       "((714,), (5149, 5149), (714, 714))"
      ]
     },
     "execution_count": 118,
     "metadata": {},
     "output_type": "execute_result"
    }
   ],
   "source": [
    "s.shape, u.shape, vt.shape"
   ]
  },
  {
   "cell_type": "markdown",
   "metadata": {},
   "source": [
    "**Provide your response here.**\n",
    "This is different than in lesson in the sense that I can fill out the missing values with zeros. In this case user has either seen the article or not. There is no concept of ratings."
   ]
  },
  {
   "cell_type": "markdown",
   "metadata": {},
   "source": [
    "`3.` Now for the tricky part, how do we choose the number of latent features to use?  Running the below cell, you can see that as the number of latent features increases, we obtain a lower error rate on making predictions for the 1 and 0 values in the user-item matrix.  Run the cell below to get an idea of how the accuracy improves as we increase the number of latent features."
   ]
  },
  {
   "cell_type": "code",
   "execution_count": 119,
   "metadata": {},
   "outputs": [
    {
     "name": "stdout",
     "output_type": "stream",
     "text": [
      "0.0\n"
     ]
    },
    {
     "data": {
      "image/png": "[encoded data removed]",
      "text/plain": [
       "<matplotlib.figure.Figure at 0x7f483c180208>"
      ]
     },
     "metadata": {
      "needs_background": "light"
     },
     "output_type": "display_data"
    }
   ],
   "source": [
    "num_latent_feats = np.arange(10,700+10,20)\n",
    "sum_errs = []\n",
    "\n",
    "for k in num_latent_feats:\n",
    "    # restructure with k latent features\n",
    "    s_new, u_new, vt_new = np.diag(s[:k]), u[:, :k], vt[:k, :]\n",
    "    \n",
    "    # take dot product\n",
    "    user_item_est = np.around(np.dot(np.dot(u_new, s_new), vt_new))\n",
    "    \n",
    "    # compute error for each prediction to actual value\n",
    "    diffs = np.subtract(user_item_matrix, user_item_est)\n",
    "    \n",
    "    # total errors and keep track of them\n",
    "    err = np.sum(np.sum(np.abs(diffs)))\n",
    "    sum_errs.append(err)\n",
    "    \n",
    "print(err)    \n",
    "plt.plot(num_latent_feats, 1 - np.array(sum_errs)/df.shape[0]);\n",
    "plt.xlabel('Number of Latent Features');\n",
    "plt.ylabel('Accuracy');\n",
    "plt.title('Accuracy vs. Number of Latent Features');"
   ]
  },
  {
   "cell_type": "markdown",
   "metadata": {},
   "source": [
    "`4.` From the above, we can't really be sure how many features to use, because simply having a better way to predict the 1's and 0's of the matrix doesn't exactly give us an indication of if we are able to make good recommendations.  Instead, we might split our dataset into a training and test set of data, as shown in the cell below.  \n",
    "\n",
    "Use the code from question 3 to understand the impact on accuracy of the training and test sets of data with different numbers of latent features. Using the split below: \n",
    "\n",
    "* How many users can we make predictions for in the test set?  \n",
    "* How many users are we not able to make predictions for because of the cold start problem?\n",
    "* How many articles can we make predictions for in the test set?  \n",
    "* How many articles are we not able to make predictions for because of the cold start problem?"
   ]
  },
  {
   "cell_type": "code",
   "execution_count": 120,
   "metadata": {},
   "outputs": [],
   "source": [
    "df_train = df.head(40000)\n",
    "df_test = df.tail(5993)\n",
    "\n",
    "def create_test_and_train_user_item(df_train, df_test):\n",
    "    '''\n",
    "    INPUT:\n",
    "    df_train - training dataframe\n",
    "    df_test - test dataframe\n",
    "    \n",
    "    OUTPUT:\n",
    "    user_item_train - a user-item matrix of the training dataframe \n",
    "                      (unique users for each row and unique articles for each column)\n",
    "    user_item_test - a user-item matrix of the testing dataframe \n",
    "                    (unique users for each row and unique articles for each column)\n",
    "    test_idx - all of the test user ids\n",
    "    test_arts - all of the test article ids\n",
    "    \n",
    "    '''\n",
    "    user_item_train = create_user_item_matrix(df_train) \n",
    "    user_item_test = create_user_item_matrix(df_test) \n",
    "    test_idx = list(set(user_item_test.reset_index()['user_id']))\n",
    "    test_arts =list(user_item_test.columns)\n",
    "    \n",
    "    # Your code here\n",
    "    \n",
    "    return user_item_train, user_item_test, test_idx, test_arts\n",
    "\n",
    "user_item_train, user_item_test, test_idx, test_arts = create_test_and_train_user_item(df_train, df_test)"
   ]
  },
  {
   "cell_type": "code",
   "execution_count": 121,
   "metadata": {},
   "outputs": [
    {
     "data": {
      "text/plain": [
       "20"
      ]
     },
     "execution_count": 121,
     "metadata": {},
     "output_type": "execute_result"
    }
   ],
   "source": [
    "# Intersection of number of users overlapping between training and test data set\n",
    "lst2=create_user_item_matrix(df_train)\n",
    "lst2=list(set(lst2.reset_index()['user_id']))\n",
    "test_idx_new=list(set(test_idx) & set(lst2))\n",
    "len(test_idx_new)"
   ]
  },
  {
   "cell_type": "code",
   "execution_count": 122,
   "metadata": {},
   "outputs": [
    {
     "name": "stdout",
     "output_type": "stream",
     "text": [
      "Awesome job!  That's right!  All of the test movies are in the training data, but there are only 20 test users that were also in the training set.  All of the other users that are in the test set we have no data on.  Therefore, we cannot make predictions for these users using SVD.\n"
     ]
    }
   ],
   "source": [
    "# Replace the values in the dictionary below\n",
    "a = 662 \n",
    "b = 574 \n",
    "c = 20 \n",
    "d = 0 \n",
    "\n",
    "\n",
    "sol_4_dict = {\n",
    "    'How many users can we make predictions for in the test set?': c  , \n",
    "    'How many users in the test set are we not able to make predictions for because of the cold start problem?': a, \n",
    "    'How many articles can we make predictions for in the test set?': b , \n",
    "    'How many articles in the test set are we not able to make predictions for because of the cold start problem?': d \n",
    "}\n",
    "\n",
    "t.sol_4_test(sol_4_dict)"
   ]
  },
  {
   "cell_type": "markdown",
   "metadata": {},
   "source": [
    "`5.` Now use the **user_item_train** dataset from above to find U, S, and V transpose using SVD. Then find the subset of rows in the **user_item_test** dataset that you can predict using this matrix decomposition with different numbers of latent features to see how many features makes sense to keep based on the accuracy on the test data. This will require combining what was done in questions `2` - `4`.\n",
    "\n",
    "Use the cells below to explore how well SVD works towards making predictions for recommendations on the test data.  "
   ]
  },
  {
   "cell_type": "code",
   "execution_count": 123,
   "metadata": {
    "scrolled": true
   },
   "outputs": [],
   "source": [
    "# fit SVD on the user_item_train matrix\n",
    "u_train, s_train, vt_train = np.linalg.svd(user_item_train.fillna(0)) # fit svd similar to above then use the cells below"
   ]
  },
  {
   "cell_type": "code",
   "execution_count": 124,
   "metadata": {},
   "outputs": [
    {
     "data": {
      "text/plain": [
       "((714,), (4487, 4487), (714, 714), (4487, 714))"
      ]
     },
     "execution_count": 124,
     "metadata": {},
     "output_type": "execute_result"
    }
   ],
   "source": [
    "s_train.shape, u_train.shape, vt_train.shape, user_item_train.shape"
   ]
  },
  {
   "cell_type": "code",
   "execution_count": 125,
   "metadata": {},
   "outputs": [
    {
     "data": {
      "text/plain": [
       "((714, 714), (4487, 714), (714, 714), (4487, 714))"
      ]
     },
     "execution_count": 125,
     "metadata": {},
     "output_type": "execute_result"
    }
   ],
   "source": [
    "# Use these cells to see how well you can use the training \n",
    "# decomposition to predict on test data\n",
    "# Making the latent features to 714\n",
    "s_train_new, u_train_new, vt_train_new = np.diag(s_train[:714]), u_train[:, :714], vt_train[:714, :]\n",
    "s_train_new.shape, u_train_new.shape, vt_train_new.shape, user_item_train.shape"
   ]
  },
  {
   "cell_type": "markdown",
   "metadata": {},
   "source": [
    "### => Note to the evaluator\n",
    "I have list of only 20 users (\"test_idx_new\") on which I can use my training set to check the recommendations.\n",
    "The articles viewed in the test dataset (by a given user) are not there in training dataset, however, we should be able to recommend those articles based on the pattern we saw in training dataset. \n",
    "To that effect , I will create list of all articles seen by the these 20 users in the complete data set. Then compare it to the recommendation provided by my alogrothim. If the two lists match then great !\n"
   ]
  },
  {
   "cell_type": "code",
   "execution_count": 126,
   "metadata": {},
   "outputs": [
    {
     "name": "stdout",
     "output_type": "stream",
     "text": [
      "---User Id---: \n",
      "3968\n",
      "---Prediction---: \n",
      "[15.0, 194.0, 651.0, 658.0, 730.0, 761.0, 788.0, 865.0, 967.0, 977.0, 1054.0, 1174.0, 1176.0, 1274.0, 1314.0, 1330.0, 1332.0, 1393.0]\n",
      "---Actual---: \n",
      "[15.0, 43.0, 194.0, 268.0, 348.0, 651.0, 658.0, 684.0, 730.0, 761.0, 788.0, 865.0, 967.0, 977.0, 996.0, 1018.0, 1054.0, 1174.0, 1176.0, 1274.0, 1314.0, 1330.0, 1332.0, 1393.0, 1429.0]\n",
      "---User Id---: \n",
      "3777\n",
      "---Prediction---: \n",
      "[409.0]\n",
      "---Actual---: \n",
      "[254.0, 409.0]\n",
      "---User Id---: \n",
      "4002\n",
      "---Prediction---: \n",
      "[116.0]\n",
      "---Actual---: \n",
      "[116.0, 310.0, 390.0, 409.0, 645.0, 898.0, 1006.0, 1298.0, 1368.0, 1427.0]\n",
      "---User Id---: \n",
      "3684\n",
      "---Prediction---: \n",
      "[20.0, 236.0, 237.0, 278.0, 337.0, 480.0, 500.0, 508.0, 641.0, 681.0, 788.0, 939.0, 977.0, 1030.0, 1055.0, 1160.0, 1166.0, 1170.0, 1174.0, 1185.0, 1274.0, 1278.0, 1305.0, 1314.0, 1336.0, 1338.0, 1354.0, 1364.0, 1366.0, 1368.0, 1400.0, 1422.0, 1427.0, 1429.0, 1433.0]\n",
      "---Actual---: \n",
      "[20.0, 68.0, 236.0, 237.0, 278.0, 314.0, 337.0, 480.0, 500.0, 508.0, 641.0, 681.0, 788.0, 939.0, 977.0, 1030.0, 1055.0, 1160.0, 1166.0, 1170.0, 1174.0, 1185.0, 1274.0, 1278.0, 1305.0, 1314.0, 1336.0, 1338.0, 1354.0, 1364.0, 1366.0, 1368.0, 1400.0, 1422.0, 1427.0, 1429.0, 1433.0]\n",
      "---User Id---: \n",
      "4293\n",
      "---Prediction---: \n",
      "[352.0, 390.0, 656.0, 843.0, 1056.0, 1163.0, 1164.0, 1168.0, 1174.0, 1185.0, 1271.0, 1274.0, 1282.0, 1314.0, 1324.0, 1330.0, 1332.0, 1354.0, 1367.0, 1398.0, 1416.0, 1418.0, 1429.0, 1431.0, 1432.0, 1436.0]\n",
      "---Actual---: \n",
      "[36.0, 260.0, 352.0, 390.0, 477.0, 499.0, 622.0, 656.0, 795.0, 843.0, 882.0, 903.0, 965.0, 1056.0, 1163.0, 1164.0, 1166.0, 1168.0, 1170.0, 1174.0, 1185.0, 1271.0, 1274.0, 1282.0, 1305.0, 1314.0, 1317.0, 1324.0, 1330.0, 1332.0, 1336.0, 1343.0, 1350.0, 1354.0, 1364.0, 1367.0, 1391.0, 1395.0, 1398.0, 1416.0, 1418.0, 1429.0, 1431.0, 1432.0, 1436.0]\n",
      "---User Id---: \n",
      "2917\n",
      "---Prediction---: \n",
      "[20.0, 62.0, 162.0, 224.0, 268.0, 415.0, 846.0, 961.0, 1016.0, 1174.0, 1393.0]\n",
      "---Actual---: \n",
      "[20.0, 62.0, 162.0, 224.0, 268.0, 415.0, 647.0, 846.0, 961.0, 965.0, 1016.0, 1174.0, 1393.0]\n",
      "---User Id---: \n",
      "4487\n",
      "---Prediction---: \n",
      "[8.0, 411.0, 416.0, 470.0, 477.0, 542.0, 730.0, 903.0, 1166.0, 1184.0, 1274.0, 1314.0, 1416.0, 1423.0, 1431.0]\n",
      "---Actual---: \n",
      "[8.0, 411.0, 416.0, 470.0, 477.0, 542.0, 730.0, 903.0, 1053.0, 1166.0, 1176.0, 1184.0, 1274.0, 1314.0, 1416.0, 1423.0, 1424.0, 1431.0]\n",
      "---User Id---: \n",
      "4231\n",
      "---Prediction---: \n",
      "[4.0, 43.0, 98.0, 1172.0, 1185.0, 1279.0, 1398.0, 1429.0]\n",
      "---Actual---: \n",
      "[4.0, 43.0, 58.0, 78.0, 98.0, 102.0, 244.0, 444.0, 667.0, 681.0, 969.0, 1018.0, 1172.0, 1185.0, 1189.0, 1279.0, 1324.0, 1398.0, 1403.0, 1429.0, 1431.0, 1436.0]\n",
      "---User Id---: \n",
      "3527\n",
      "---Prediction---: \n",
      "[113.0, 193.0, 975.0, 1160.0]\n",
      "---Actual---: \n",
      "[109.0, 113.0, 193.0, 975.0, 1160.0]\n",
      "---User Id---: \n",
      "4204\n",
      "---Prediction---: \n",
      "[76.0, 194.0, 415.0, 617.0, 682.0, 761.0, 1059.0, 1060.0, 1061.0, 1062.0, 1063.0, 1064.0, 1065.0, 1123.0, 1124.0, 1125.0, 1274.0, 1276.0, 1292.0, 1304.0, 1305.0, 1330.0, 1427.0, 1436.0]\n",
      "---Actual---: \n",
      "[76.0, 194.0, 415.0, 617.0, 682.0, 761.0, 990.0, 1059.0, 1060.0, 1061.0, 1062.0, 1063.0, 1064.0, 1065.0, 1123.0, 1124.0, 1125.0, 1274.0, 1276.0, 1292.0, 1304.0, 1305.0, 1330.0, 1336.0, 1427.0, 1436.0]\n",
      "---User Id---: \n",
      "3532\n",
      "---Prediction---: \n",
      "[8.0, 20.0, 43.0, 110.0, 233.0, 263.0, 348.0, 462.0, 617.0, 933.0, 1016.0, 1170.0, 1171.0, 1172.0, 1282.0, 1354.0, 1398.0, 1423.0, 1429.0, 1436.0]\n",
      "---Actual---: \n",
      "[8.0, 12.0, 20.0, 43.0, 50.0, 110.0, 116.0, 130.0, 131.0, 233.0, 263.0, 278.0, 297.0, 310.0, 323.0, 348.0, 409.0, 415.0, 462.0, 482.0, 617.0, 695.0, 844.0, 898.0, 933.0, 981.0, 1016.0, 1024.0, 1051.0, 1052.0, 1170.0, 1171.0, 1172.0, 1174.0, 1186.0, 1276.0, 1282.0, 1289.0, 1338.0, 1354.0, 1358.0, 1364.0, 1396.0, 1398.0, 1420.0, 1423.0, 1424.0, 1427.0, 1429.0, 1436.0]\n",
      "---User Id---: \n",
      "3024\n",
      "---Prediction---: \n",
      "[20.0, 26.0, 33.0, 43.0, 116.0, 124.0, 151.0, 260.0, 268.0, 278.0, 600.0, 744.0, 812.0, 882.0, 891.0, 969.0, 1035.0, 1048.0, 1170.0, 1171.0, 1172.0, 1330.0, 1336.0, 1429.0, 1431.0, 1436.0]\n",
      "---Actual---: \n",
      "[12.0, 20.0, 26.0, 33.0, 43.0, 74.0, 116.0, 124.0, 151.0, 194.0, 241.0, 260.0, 268.0, 278.0, 316.0, 600.0, 744.0, 812.0, 882.0, 891.0, 969.0, 1035.0, 1048.0, 1170.0, 1171.0, 1172.0, 1330.0, 1336.0, 1351.0, 1429.0, 1431.0, 1436.0]\n",
      "---User Id---: \n",
      "4274\n",
      "---Prediction---: \n",
      "[53.0, 116.0, 315.0, 464.0, 491.0, 510.0, 525.0, 668.0, 871.0, 1060.0, 1108.0, 1162.0, 1278.0, 1281.0, 1364.0, 1405.0, 1430.0, 1431.0, 1432.0]\n",
      "---Actual---: \n",
      "[53.0, 116.0, 236.0, 314.0, 315.0, 464.0, 491.0, 510.0, 525.0, 668.0, 871.0, 1060.0, 1108.0, 1162.0, 1278.0, 1281.0, 1282.0, 1364.0, 1405.0, 1416.0, 1430.0, 1431.0, 1432.0]\n",
      "---User Id---: \n",
      "3801\n",
      "---Prediction---: \n",
      "[12.0, 151.0, 260.0, 1166.0, 1314.0, 1354.0, 1398.0, 1436.0]\n",
      "---Actual---: \n",
      "[12.0, 43.0, 111.0, 124.0, 151.0, 193.0, 260.0, 464.0, 655.0, 732.0, 788.0, 1017.0, 1160.0, 1162.0, 1165.0, 1166.0, 1176.0, 1271.0, 1296.0, 1314.0, 1320.0, 1338.0, 1351.0, 1354.0, 1357.0, 1367.0, 1398.0, 1400.0, 1405.0, 1436.0]\n",
      "---User Id---: \n",
      "3093\n",
      "---Prediction---: \n",
      "[33.0, 124.0, 202.0, 210.0, 349.0, 448.0, 470.0, 524.0, 795.0, 864.0, 990.0, 1017.0, 1170.0]\n",
      "---Actual---: \n",
      "[33.0, 124.0, 151.0, 194.0, 202.0, 210.0, 349.0, 448.0, 470.0, 524.0, 795.0, 864.0, 957.0, 990.0, 1017.0, 1170.0, 1436.0]\n",
      "---User Id---: \n",
      "3989\n",
      "---Prediction---: \n",
      "[1165.0]\n",
      "---Actual---: \n",
      "[277.0, 1165.0]\n",
      "---User Id---: \n",
      "3990\n",
      "---Prediction---: \n",
      "[283.0]\n",
      "---Actual---: \n",
      "[283.0, 297.0]\n",
      "---User Id---: \n",
      "3193\n",
      "---Prediction---: \n",
      "[1398.0]\n",
      "---Actual---: \n",
      "[362.0, 939.0, 1051.0, 1398.0, 1410.0, 1427.0]\n",
      "---User Id---: \n",
      "3740\n",
      "---Prediction---: \n",
      "[16.0, 26.0, 109.0, 138.0, 215.0, 241.0, 314.0, 399.0, 448.0, 470.0, 477.0, 534.0, 729.0, 766.0, 969.0, 1162.0, 1181.0, 1305.0, 1317.0, 1416.0, 1436.0]\n",
      "---Actual---: \n",
      "[12.0, 16.0, 26.0, 28.0, 53.0, 57.0, 102.0, 108.0, 109.0, 110.0, 138.0, 193.0, 215.0, 221.0, 223.0, 236.0, 241.0, 302.0, 314.0, 362.0, 399.0, 412.0, 427.0, 448.0, 464.0, 470.0, 475.0, 477.0, 534.0, 553.0, 607.0, 609.0, 616.0, 618.0, 665.0, 680.0, 681.0, 682.0, 695.0, 729.0, 732.0, 766.0, 903.0, 943.0, 969.0, 1047.0, 1162.0, 1163.0, 1166.0, 1171.0, 1172.0, 1181.0, 1271.0, 1304.0, 1305.0, 1307.0, 1314.0, 1317.0, 1338.0, 1354.0, 1364.0, 1367.0, 1368.0, 1405.0, 1409.0, 1416.0, 1420.0, 1423.0, 1427.0, 1430.0, 1436.0]\n",
      "---User Id---: \n",
      "3998\n",
      "---Prediction---: \n",
      "[996.0, 1330.0, 1369.0]\n",
      "---Actual---: \n",
      "[78.0, 221.0, 996.0, 1014.0, 1025.0, 1186.0, 1330.0, 1351.0, 1354.0, 1369.0, 1394.0]\n"
     ]
    }
   ],
   "source": [
    "def recommended_articles_vs_actuals(user_id):\n",
    "    user_ids_series = np.array(user_item_train.index)\n",
    "    article_ids_series = np.array(user_item_train.columns)\n",
    "    user_row = np.where(user_ids_series == user_id)[0][0]\n",
    "    # Creating recommendations based on dot products\n",
    "    pred=np.around(np.dot(np.dot(u_train_new[user_row, :], s_train_new), vt_train_new))\n",
    "    cols=list(user_item_matrix.columns)\n",
    "    art=0\n",
    "    recommended_articles=[]\n",
    "    for i in pred:\n",
    "        if i==1:\n",
    "            recommended_articles.append(cols[art])\n",
    "        art+=1\n",
    "    # This will tells us actual articles seen by the user\n",
    "    s=user_item_matrix.loc[user_id]\n",
    "    s=s.where(s == 1.0).dropna()\n",
    "    actuals=list(s.index)\n",
    "    return recommended_articles , actuals \n",
    "# Testing how far we are off for the 20 users\n",
    "for x in test_idx_new:\n",
    "    print('---User Id---: ')\n",
    "    print (x)\n",
    "    print('---Prediction---: ')\n",
    "    print(recommended_articles_vs_actuals(x)[0])\n",
    "    print('---Actual---: ')\n",
    "    print(recommended_articles_vs_actuals(x)[1])"
   ]
  },
  {
   "cell_type": "markdown",
   "metadata": {},
   "source": [
    "# Discussions of the results\n",
    "The Prediction is close to the actual results. However, I am seeing that actuals has more articles then predicted. The reason could be that SVD was performed on the training set using sckit learn alogorithm. The algorithm memorized training set data and that's what was predicted for a given user, missing out some user article interaction in the training set. \n",
    "This could have been resolved using FunkSVD method. FunkSVD starts with random matrix and optimize it based on the Gradient descent, without any need to fill out any missing value aritifically."
   ]
  },
  {
   "cell_type": "markdown",
   "metadata": {
    "collapsed": true
   },
   "source": [
    "`6.` Use the cell below to comment on the results you found in the previous question. Given the circumstances of your results, discuss what you might do to determine if the recommendations you make with any of the above recommendation systems are an improvement to how users currently find articles? "
   ]
  },
  {
   "cell_type": "markdown",
   "metadata": {},
   "source": [
    "**Your response here.**\n",
    "We are recommending just based on the views and it can be very arbitrary. Unlike movies recommendations, we do not know if the user liked or dislike a article viewed.  However, we can potentially start with a neutral rating of say 1, on the scale of 1 to 5. This rating can be increased proportionally based on how many times it was viewed. Of course, the assumption here is that a liked article will be viewed multiple times by an user."
   ]
  },
  {
   "cell_type": "markdown",
   "metadata": {
    "collapsed": true
   },
   "source": [
    "<a id='conclusions'></a>\n",
    "### Extras\n",
    "Using your workbook, you could now save your recommendations for each user, develop a class to make new predictions and update your results, and make a flask app to deploy your results.  These tasks are beyond what is required for this project.  However, from what you learned in the lessons, you certainly capable of taking these tasks on to improve upon your work here!\n",
    "\n",
    "\n",
    "## Conclusion\n",
    "\n",
    "> Congratulations!  You have reached the end of the Recommendations with IBM project! \n",
    "\n",
    "> **Tip**: Once you are satisfied with your work here, check over your report to make sure that it is satisfies all the areas of the [rubric](https://review.udacity.com/#!/rubrics/2322/view). You should also probably remove all of the \"Tips\" like this one so that the presentation is as polished as possible.\n",
    "\n",
    "\n",
    "## Directions to Submit\n",
    "\n",
    "> Before you submit your project, you need to create a .html or .pdf version of this notebook in the workspace here. To do that, run the code cell below. If it worked correctly, you should get a return code of 0, and you should see the generated .html file in the workspace directory (click on the orange Jupyter icon in the upper left).\n",
    "\n",
    "> Alternatively, you can download this report as .html via the **File** > **Download as** submenu, and then manually upload it into the workspace directory by clicking on the orange Jupyter icon in the upper left, then using the Upload button.\n",
    "\n",
    "> Once you've done this, you can submit your project by clicking on the \"Submit Project\" button in the lower right here. This will create and submit a zip file with this .ipynb doc and the .html or .pdf version you created. Congratulations! "
   ]
  },
  {
   "cell_type": "code",
   "execution_count": 128,
   "metadata": {},
   "outputs": [
    {
     "data": {
      "text/plain": [
       "0"
      ]
     },
     "execution_count": 128,
     "metadata": {},
     "output_type": "execute_result"
    }
   ],
   "source": [
    "from subprocess import call\n",
    "call(['python', '-m', 'nbconvert', 'Recommendations_with_IBM.ipynb'])"
   ]
  },
  {
   "cell_type": "code",
   "execution_count": null,
   "metadata": {},
   "outputs": [],
   "source": []
  }
 ],
 "metadata": {
  "kernelspec": {
   "display_name": "Python 3",
   "language": "python",
   "name": "python3"
  },
  "language_info": {
   "codemirror_mode": {
    "name": "ipython",
    "version": 3
   },
   "file_extension": ".py",
   "mimetype": "text/x-python",
   "name": "python",
   "nbconvert_exporter": "python",
   "pygments_lexer": "ipython3",
   "version": "3.6.3"
  }
 },
 "nbformat": 4,
 "nbformat_minor": 2
}
